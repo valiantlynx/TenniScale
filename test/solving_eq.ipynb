{
 "cells": [
  {
   "cell_type": "code",
   "execution_count": 5,
   "metadata": {},
   "outputs": [
    {
     "name": "stdout",
     "output_type": "stream",
     "text": [
      "new  best iter: 0, loss: 881.6698109939332, best loss: 881.6698109939332\n",
      "new  best iter: 3, loss: 76.20318639998958, best loss: 76.20318639998958\n",
      "new  best iter: 12, loss: 41.90793691358435, best loss: 41.90793691358435\n",
      "new  best iter: 50, loss: 18.891686994352384, best loss: 18.891686994352384\n",
      "new  best iter: 104, loss: 7.85078010848467, best loss: 7.85078010848467\n",
      "new  best iter: 318, loss: 7.176749477138383, best loss: 7.176749477138383\n",
      "new  best iter: 802, loss: 2.421085899471355, best loss: 2.421085899471355\n",
      "new  best iter: 3849, loss: 0.7881488880310499, best loss: 0.7881488880310499\n",
      "new  best iter: 7560, loss: 0.6160213285959724, best loss: 0.6160213285959724\n",
      "new  best iter: 33919, loss: 0.5945284759271606, best loss: 0.5945284759271606\n",
      "new  best iter: 445155, loss: 0.5819834495607697, best loss: 0.5819834495607697\n",
      "new  best iter: 817903, loss: 0.5715662807964751, best loss: 0.5715662807964751\n",
      "new  best iter: 1965056, loss: 0.5713457513738084, best loss: 0.5713457513738084\n",
      "new  best iter: 3802649, loss: 0.56898213144498, best loss: 0.56898213144498\n",
      "new  best iter: 8629046, loss: 0.5684599979815045, best loss: 0.5684599979815045\n"
     ]
    }
   ],
   "source": [
    "\n",
    "import random\n",
    "\n",
    "\n",
    "\n",
    "def loss_l2(a, b):\n",
    "\n",
    "    eq1 = (2*a) + b - 1\n",
    "    eq2 = (-4*a) + (2*b)\n",
    "    eq3 = 2*((3*a) + (2*b))\n",
    "\n",
    "    y_hat = [eq1, eq2, eq3]\n",
    "    y = [4, -11, 12]\n",
    "\n",
    "    loss_l2 = 0.0\n",
    "    for y_hat_k, y_k in zip(y_hat, y):\n",
    "        loss_l2 += (y_hat_k - y_k)**2\n",
    "\n",
    "    return loss_l2\n",
    "\n",
    "\n",
    "\n",
    "best_loss = float('inf')\n",
    "best_model = None\n",
    "\n",
    "for it in range(1_0000_000):\n",
    "    a = random.uniform(-10, 10)\n",
    "    b = random.uniform(-10, 10)\n",
    "\n",
    "    loss = loss_l2(a, b)\n",
    "\n",
    "    if loss < best_loss:\n",
    "        best_loss = loss\n",
    "        best_model = (a, b)\n",
    "\n",
    "        print(f'new  best iter: {it}, loss: {loss}, best loss: {best_loss}')\n",
    "\n",
    "\n",
    "\n",
    "\n",
    "\n",
    "\n"
   ]
  },
  {
   "cell_type": "code",
   "execution_count": 6,
   "metadata": {},
   "outputs": [
    {
     "data": {
      "text/plain": [
       "(2.4488611224524544, -0.626263311259498)"
      ]
     },
     "execution_count": 6,
     "metadata": {},
     "output_type": "execute_result"
    }
   ],
   "source": [
    "best_model"
   ]
  }
 ],
 "metadata": {
  "kernelspec": {
   "display_name": "base",
   "language": "python",
   "name": "python3"
  },
  "language_info": {
   "codemirror_mode": {
    "name": "ipython",
    "version": 3
   },
   "file_extension": ".py",
   "mimetype": "text/x-python",
   "name": "python",
   "nbconvert_exporter": "python",
   "pygments_lexer": "ipython3",
   "version": "3.10.9"
  }
 },
 "nbformat": 4,
 "nbformat_minor": 2
}
